{
 "cells": [
  {
   "cell_type": "code",
   "execution_count": 1,
   "id": "7206db8a",
   "metadata": {},
   "outputs": [],
   "source": [
    "import re\n",
    "\n",
    "def countBase(fasta):\n",
    "    with open(fasta, \"r+\") as f:\n",
    "        contents = f.read()\n",
    "    contents = re.split(r\">R.+\\n\", contents)[1:]\n",
    "    contents = [x.replace(\"\\n\", \"\") for x in contents]\n",
    "    contents = [\"\".join(x) for x in zip(*contents)]\n",
    "    counts = {'A' :[x.count('A') for x in contents],\n",
    "              'C' :[x.count('C') for x in contents],\n",
    "              'G' :[x.count('G') for x in contents],\n",
    "              'T' :[x.count('T') for x in contents]}\n",
    "    \n",
    "    base_list = ['A', 'C', 'G', 'T']\n",
    "    consensus = \"\"\n",
    "    for i in range(len(counts['A'])):\n",
    "        sorted_base = sorted(base_list, key = lambda ele: counts[ele][i], reverse=True)\n",
    "        consensus += sorted_base[0]\n",
    "    return consensus, counts"
   ]
  },
  {
   "cell_type": "code",
   "execution_count": 2,
   "id": "c5f31833",
   "metadata": {},
   "outputs": [],
   "source": [
    "consensus, counts = countBase(\"/home/adrienne/Downloads/rosalind_cons.txt\")"
   ]
  },
  {
   "cell_type": "code",
   "execution_count": 3,
   "id": "b7777c58",
   "metadata": {},
   "outputs": [],
   "source": [
    "f = open(\"output.txt\", \"w\")\n",
    "f.write(consensus)\n",
    "f.write(\"\\n\")\n",
    "for i in counts.keys():\n",
    "    f.write(\"{0}: {1}\".format(i, \" \".join([str(x) for x in counts[i]]) ))\n",
    "    f.write(\"\\n\")\n",
    "f.close()"
   ]
  }
 ],
 "metadata": {
  "kernelspec": {
   "display_name": "Python 3",
   "language": "python",
   "name": "python3"
  },
  "language_info": {
   "codemirror_mode": {
    "name": "ipython",
    "version": 3
   },
   "file_extension": ".py",
   "mimetype": "text/x-python",
   "name": "python",
   "nbconvert_exporter": "python",
   "pygments_lexer": "ipython3",
   "version": "3.8.10 (default, May 26 2023, 14:05:08) \n[GCC 9.4.0]"
  },
  "vscode": {
   "interpreter": {
    "hash": "31f2aee4e71d21fbe5cf8b01ff0e069b9275f58929596ceb00d14d90e3e16cd6"
   }
  }
 },
 "nbformat": 4,
 "nbformat_minor": 5
}
